{
 "cells": [
  {
   "cell_type": "code",
   "execution_count": null,
   "metadata": {},
   "outputs": [],
   "source": [
    "import pandas as pd, numpy as np\n",
    "import matplotlib.pyplot as plt\n",
    "import random\n",
    "\n",
    "from sklearn.datasets import load_digits\n",
    "from sklearn.datasets import load_boston"
   ]
  },
  {
   "cell_type": "code",
   "execution_count": null,
   "metadata": {},
   "outputs": [],
   "source": [
    "def to_label(data, target, percentile):\n",
    "    frac = percentile / 100.0\n",
    "    part_val = data[target].quantile(frac)\n",
    "    data[target] = [1 if d > part_val else 0 for d in data[target]]\n",
    "    return data"
   ]
  },
  {
   "cell_type": "code",
   "execution_count": null,
   "metadata": {},
   "outputs": [],
   "source": [
    "boston = load_boston()\n",
    "data = pd.DataFrame(boston.data, columns=boston.feature_names)\n",
    "label = 'HomeVal50'\n",
    "data[label] = boston.target\n",
    "to_label(data, label, 50)\n",
    "data.head(5)"
   ]
  },
  {
   "cell_type": "code",
   "execution_count": null,
   "metadata": {},
   "outputs": [],
   "source": [
    "def train_test_split(data, label, test_ratio=0.2):\n",
    "\n",
    "    test_idx = []\n",
    "    indices = [i for i in range(data.shape[0])]\n",
    "\n",
    "    test_size = test_ratio * len(data)\n",
    "    while len(test_idx) < test_size:\n",
    "        test_idx.append(random.randrange(len(indices)))\n",
    "\n",
    "    train_idx = [i for i in indices if i not in test_idx]\n",
    "\n",
    "    test = data.iloc[test_idx]\n",
    "    train = data.iloc[train_idx]\n",
    "    \n",
    "    y_train = train[label]\n",
    "    X_train = train.drop(label,axis=1)\n",
    "\n",
    "    y_test = test[label]\n",
    "    X_test = test.drop(label,axis=1)\n",
    "\n",
    "    return X_train, y_train, X_test, y_test\n",
    "\n",
    "X_train, y_train, X_test, y_test = train_test_split(data, label=label)"
   ]
  },
  {
   "cell_type": "code",
   "execution_count": null,
   "metadata": {},
   "outputs": [],
   "source": [
    "N = X_train.shape[0]\n",
    "D = X_train.shape[1]\n",
    "print(N,D)"
   ]
  },
  {
   "cell_type": "code",
   "execution_count": null,
   "metadata": {},
   "outputs": [],
   "source": [
    "len(y_train)"
   ]
  },
  {
   "cell_type": "code",
   "execution_count": null,
   "metadata": {},
   "outputs": [],
   "source": [
    "classes = np.unique(y_train)\n",
    "classes"
   ]
  },
  {
   "cell_type": "code",
   "execution_count": null,
   "metadata": {},
   "outputs": [],
   "source": [
    "t_one_hot = np.zeros((N,len(classes)))\n",
    "t_one_hot[np.arange(N), y_train] = 1\n",
    "t_one_hot.shape"
   ]
  },
  {
   "cell_type": "code",
   "execution_count": null,
   "metadata": {},
   "outputs": [],
   "source": [
    "prior = [np.sum(y_train == c) / len(y_train) for c in classes]"
   ]
  },
  {
   "cell_type": "code",
   "execution_count": null,
   "metadata": {},
   "outputs": [],
   "source": [
    "prior"
   ]
  },
  {
   "cell_type": "code",
   "execution_count": null,
   "metadata": {},
   "outputs": [],
   "source": [
    "def to_dict( X, y):\n",
    "    return {k: X_train.iloc[np.where(y_train==k)[0]] for k in classes}"
   ]
  },
  {
   "cell_type": "code",
   "execution_count": null,
   "metadata": {},
   "outputs": [],
   "source": [
    "X = to_dict(X_train, y_train)\n",
    "X[0].shape"
   ]
  },
  {
   "cell_type": "code",
   "execution_count": null,
   "metadata": {},
   "outputs": [],
   "source": [
    "def gaussian_params(X_train, y_train):\n",
    "    X_dict = to_dict(X_train, y_train)\n",
    "    g_prior = {k: X_dict[k].shape[0]/X_train.shape[0] for k in classes}\n",
    "    g_mean = {k: np.mean(X_dict[k], axis=0) for k in classes}\n",
    "    g_sd = {k: np.std(X_dict[k],axis=0, ddof=1) for k in classes}\n",
    "    return g_prior, g_mean, g_sd"
   ]
  },
  {
   "cell_type": "code",
   "execution_count": null,
   "metadata": {},
   "outputs": [],
   "source": [
    "g_prior, g_mean, g_sd = gaussian_params(X_train, y_train)"
   ]
  },
  {
   "cell_type": "code",
   "execution_count": null,
   "metadata": {},
   "outputs": [],
   "source": [
    "g_prior"
   ]
  },
  {
   "cell_type": "code",
   "execution_count": null,
   "metadata": {},
   "outputs": [],
   "source": [
    "{k: np.var(X[k],axis=0) for k in classes}[0]"
   ]
  },
  {
   "cell_type": "code",
   "execution_count": null,
   "metadata": {},
   "outputs": [],
   "source": [
    "from scipy.stats import norm\n",
    "norm.logpdf(x, g_mean[0][1],g_cov[0][1])"
   ]
  },
  {
   "cell_type": "code",
   "execution_count": null,
   "metadata": {},
   "outputs": [],
   "source": [
    "def gaussian_probability(x, mean, std):\n",
    "    exp = np.exp(- ((x-mean)**2) / (2*(std**2)) )\n",
    "    return (1 / (np.sqrt(2*np.pi) * std)) * exp"
   ]
  },
  {
   "cell_type": "code",
   "execution_count": null,
   "metadata": {},
   "outputs": [],
   "source": [
    "p1 = gaussian_probability(X[0].iloc[1], g_mean[0], g_sd[0])\n",
    "p2 = gaussian_probability(X[0].iloc[2], g_mean[0], g_sd[0])"
   ]
  },
  {
   "cell_type": "code",
   "execution_count": null,
   "metadata": {},
   "outputs": [],
   "source": [
    "p1"
   ]
  },
  {
   "cell_type": "code",
   "execution_count": null,
   "metadata": {},
   "outputs": [],
   "source": [
    "def gaussian_pdf(x, mean, std):\n",
    "    A = 1/((2*np.pi)**(len(x)/2))\n",
    "    B = 1/(np.prod(std))\n",
    "    C = - np.sum(((x - mean)**2) / (2 * (std**2)))\n",
    "    return A*B*np.exp(C)"
   ]
  },
  {
   "cell_type": "code",
   "execution_count": null,
   "metadata": {},
   "outputs": [],
   "source": [
    "x = X_train.iloc[1]\n",
    "mean = g_mean[0]\n",
    "std = g_sd[0]\n",
    "gaussian_pdf(x, mean, std)"
   ]
  },
  {
   "cell_type": "code",
   "execution_count": null,
   "metadata": {},
   "outputs": [],
   "source": [
    "g_mean[0]"
   ]
  },
  {
   "cell_type": "code",
   "execution_count": null,
   "metadata": {},
   "outputs": [],
   "source": [
    "g_mean[1]"
   ]
  },
  {
   "cell_type": "code",
   "execution_count": 137,
   "metadata": {},
   "outputs": [],
   "source": [
    "def predict(X):\n",
    "    y_pred = []\n",
    "    # for each data point\n",
    "    for idx, x in X.iterrows():\n",
    "        likelihood = []\n",
    "        # likelihood for each class\n",
    "        for k in classes:\n",
    "            p = g_prior[k] * gaussian_pdf(x, g_mean[k], g_sd[k])\n",
    "            likelihood.append(np.log(p+1e-6))\n",
    "        # predict label (one with highest likelihood)\n",
    "        y_pred.append(np.argmax(likelihood))\n",
    "\n",
    "    return y_pred"
   ]
  },
  {
   "cell_type": "code",
   "execution_count": 141,
   "metadata": {},
   "outputs": [],
   "source": [
    "y_pred = predict(X_train)"
   ]
  },
  {
   "cell_type": "code",
   "execution_count": 143,
   "metadata": {},
   "outputs": [
    {
     "data": {
      "text/plain": [
       "0.22115384615384615"
      ]
     },
     "execution_count": 143,
     "metadata": {},
     "output_type": "execute_result"
    }
   ],
   "source": [
    "np.sum(y_pred != y_train) / float(len(y_train))"
   ]
  }
 ],
 "metadata": {
  "kernelspec": {
   "display_name": "Python 3",
   "language": "python",
   "name": "python3"
  },
  "language_info": {
   "codemirror_mode": {
    "name": "ipython",
    "version": 3
   },
   "file_extension": ".py",
   "mimetype": "text/x-python",
   "name": "python",
   "nbconvert_exporter": "python",
   "pygments_lexer": "ipython3",
   "version": "3.6.6"
  }
 },
 "nbformat": 4,
 "nbformat_minor": 2
}
