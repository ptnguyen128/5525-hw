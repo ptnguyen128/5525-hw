{
 "cells": [
  {
   "cell_type": "code",
   "execution_count": 1,
   "metadata": {},
   "outputs": [],
   "source": [
    "import pandas as pd, numpy as np\n",
    "import matplotlib.pyplot as plt\n",
    "import random\n",
    "\n",
    "from sklearn.datasets import load_digits\n",
    "from sklearn.datasets import load_boston"
   ]
  },
  {
   "cell_type": "code",
   "execution_count": 2,
   "metadata": {},
   "outputs": [],
   "source": [
    "def to_label(data, target, percentile):\n",
    "    frac = percentile / 100.0\n",
    "    part_val = data[target].quantile(frac)\n",
    "    data[target] = [1 if d > part_val else 0 for d in data[target]]\n",
    "    return data"
   ]
  },
  {
   "cell_type": "code",
   "execution_count": 3,
   "metadata": {},
   "outputs": [
    {
     "data": {
      "text/html": [
       "<div>\n",
       "<style scoped>\n",
       "    .dataframe tbody tr th:only-of-type {\n",
       "        vertical-align: middle;\n",
       "    }\n",
       "\n",
       "    .dataframe tbody tr th {\n",
       "        vertical-align: top;\n",
       "    }\n",
       "\n",
       "    .dataframe thead th {\n",
       "        text-align: right;\n",
       "    }\n",
       "</style>\n",
       "<table border=\"1\" class=\"dataframe\">\n",
       "  <thead>\n",
       "    <tr style=\"text-align: right;\">\n",
       "      <th></th>\n",
       "      <th>CRIM</th>\n",
       "      <th>ZN</th>\n",
       "      <th>INDUS</th>\n",
       "      <th>CHAS</th>\n",
       "      <th>NOX</th>\n",
       "      <th>RM</th>\n",
       "      <th>AGE</th>\n",
       "      <th>DIS</th>\n",
       "      <th>RAD</th>\n",
       "      <th>TAX</th>\n",
       "      <th>PTRATIO</th>\n",
       "      <th>B</th>\n",
       "      <th>LSTAT</th>\n",
       "      <th>HomeVal50</th>\n",
       "    </tr>\n",
       "  </thead>\n",
       "  <tbody>\n",
       "    <tr>\n",
       "      <th>0</th>\n",
       "      <td>0.00632</td>\n",
       "      <td>18.0</td>\n",
       "      <td>2.31</td>\n",
       "      <td>0.0</td>\n",
       "      <td>0.538</td>\n",
       "      <td>6.575</td>\n",
       "      <td>65.2</td>\n",
       "      <td>4.0900</td>\n",
       "      <td>1.0</td>\n",
       "      <td>296.0</td>\n",
       "      <td>15.3</td>\n",
       "      <td>396.90</td>\n",
       "      <td>4.98</td>\n",
       "      <td>1</td>\n",
       "    </tr>\n",
       "    <tr>\n",
       "      <th>1</th>\n",
       "      <td>0.02731</td>\n",
       "      <td>0.0</td>\n",
       "      <td>7.07</td>\n",
       "      <td>0.0</td>\n",
       "      <td>0.469</td>\n",
       "      <td>6.421</td>\n",
       "      <td>78.9</td>\n",
       "      <td>4.9671</td>\n",
       "      <td>2.0</td>\n",
       "      <td>242.0</td>\n",
       "      <td>17.8</td>\n",
       "      <td>396.90</td>\n",
       "      <td>9.14</td>\n",
       "      <td>1</td>\n",
       "    </tr>\n",
       "    <tr>\n",
       "      <th>2</th>\n",
       "      <td>0.02729</td>\n",
       "      <td>0.0</td>\n",
       "      <td>7.07</td>\n",
       "      <td>0.0</td>\n",
       "      <td>0.469</td>\n",
       "      <td>7.185</td>\n",
       "      <td>61.1</td>\n",
       "      <td>4.9671</td>\n",
       "      <td>2.0</td>\n",
       "      <td>242.0</td>\n",
       "      <td>17.8</td>\n",
       "      <td>392.83</td>\n",
       "      <td>4.03</td>\n",
       "      <td>1</td>\n",
       "    </tr>\n",
       "    <tr>\n",
       "      <th>3</th>\n",
       "      <td>0.03237</td>\n",
       "      <td>0.0</td>\n",
       "      <td>2.18</td>\n",
       "      <td>0.0</td>\n",
       "      <td>0.458</td>\n",
       "      <td>6.998</td>\n",
       "      <td>45.8</td>\n",
       "      <td>6.0622</td>\n",
       "      <td>3.0</td>\n",
       "      <td>222.0</td>\n",
       "      <td>18.7</td>\n",
       "      <td>394.63</td>\n",
       "      <td>2.94</td>\n",
       "      <td>1</td>\n",
       "    </tr>\n",
       "    <tr>\n",
       "      <th>4</th>\n",
       "      <td>0.06905</td>\n",
       "      <td>0.0</td>\n",
       "      <td>2.18</td>\n",
       "      <td>0.0</td>\n",
       "      <td>0.458</td>\n",
       "      <td>7.147</td>\n",
       "      <td>54.2</td>\n",
       "      <td>6.0622</td>\n",
       "      <td>3.0</td>\n",
       "      <td>222.0</td>\n",
       "      <td>18.7</td>\n",
       "      <td>396.90</td>\n",
       "      <td>5.33</td>\n",
       "      <td>1</td>\n",
       "    </tr>\n",
       "  </tbody>\n",
       "</table>\n",
       "</div>"
      ],
      "text/plain": [
       "      CRIM    ZN  INDUS  CHAS    NOX     RM   AGE     DIS  RAD    TAX  \\\n",
       "0  0.00632  18.0   2.31   0.0  0.538  6.575  65.2  4.0900  1.0  296.0   \n",
       "1  0.02731   0.0   7.07   0.0  0.469  6.421  78.9  4.9671  2.0  242.0   \n",
       "2  0.02729   0.0   7.07   0.0  0.469  7.185  61.1  4.9671  2.0  242.0   \n",
       "3  0.03237   0.0   2.18   0.0  0.458  6.998  45.8  6.0622  3.0  222.0   \n",
       "4  0.06905   0.0   2.18   0.0  0.458  7.147  54.2  6.0622  3.0  222.0   \n",
       "\n",
       "   PTRATIO       B  LSTAT  HomeVal50  \n",
       "0     15.3  396.90   4.98          1  \n",
       "1     17.8  396.90   9.14          1  \n",
       "2     17.8  392.83   4.03          1  \n",
       "3     18.7  394.63   2.94          1  \n",
       "4     18.7  396.90   5.33          1  "
      ]
     },
     "execution_count": 3,
     "metadata": {},
     "output_type": "execute_result"
    }
   ],
   "source": [
    "#digits = load_digits()\n",
    "boston = load_boston()\n",
    "#data = pd.DataFrame(digits.data)\n",
    "data = pd.DataFrame(boston.data, columns=boston.feature_names)\n",
    "#label = 'class'\n",
    "label = 'HomeVal50'\n",
    "#data[label] = digits.target\n",
    "data[label] = boston.target\n",
    "to_label(data, label, 50)\n",
    "data.head(5)"
   ]
  },
  {
   "cell_type": "code",
   "execution_count": 21,
   "metadata": {},
   "outputs": [],
   "source": [
    "t = np.array(data[label])\n",
    "X = data.drop(label, axis=1)"
   ]
  },
  {
   "cell_type": "code",
   "execution_count": 22,
   "metadata": {},
   "outputs": [
    {
     "data": {
      "text/plain": [
       "(506,)"
      ]
     },
     "execution_count": 22,
     "metadata": {},
     "output_type": "execute_result"
    }
   ],
   "source": [
    "t.shape"
   ]
  },
  {
   "cell_type": "code",
   "execution_count": 23,
   "metadata": {},
   "outputs": [
    {
     "name": "stdout",
     "output_type": "stream",
     "text": [
      "506 13\n"
     ]
    }
   ],
   "source": [
    "N = X.shape[0]\n",
    "D = X.shape[1]\n",
    "print(N,D)"
   ]
  },
  {
   "cell_type": "code",
   "execution_count": 24,
   "metadata": {},
   "outputs": [],
   "source": [
    "# add a column of ones to X\n",
    "ones = np.array([[1]*N]).T\n",
    "phi = np.concatenate((ones,X), axis=1)"
   ]
  },
  {
   "cell_type": "code",
   "execution_count": 25,
   "metadata": {},
   "outputs": [],
   "source": [
    "w = np.random.randn(D+1)\n",
    "a = np.dot(phi,w)"
   ]
  },
  {
   "cell_type": "code",
   "execution_count": 42,
   "metadata": {},
   "outputs": [
    {
     "data": {
      "text/plain": [
       "(14,)"
      ]
     },
     "execution_count": 42,
     "metadata": {},
     "output_type": "execute_result"
    }
   ],
   "source": [
    "w.shape"
   ]
  },
  {
   "cell_type": "code",
   "execution_count": 28,
   "metadata": {},
   "outputs": [],
   "source": [
    "def sigmoid(a):\n",
    "    return 1/(1 + np.exp(-a))"
   ]
  },
  {
   "cell_type": "code",
   "execution_count": 12,
   "metadata": {},
   "outputs": [],
   "source": [
    "def softmax(a):\n",
    "    e = np.exp(a - np.max(a))\n",
    "    #e = np.exp(a)\n",
    "    if e.ndim == 1:\n",
    "        return e / np.sum(e, axis=0)\n",
    "    else:\n",
    "        return e / np.array([np.sum(e, axis=1)]).T"
   ]
  },
  {
   "cell_type": "code",
   "execution_count": 29,
   "metadata": {},
   "outputs": [],
   "source": [
    "p = sigmoid(a)\n",
    "grad = np.dot((p - t), phi)"
   ]
  },
  {
   "cell_type": "code",
   "execution_count": 30,
   "metadata": {},
   "outputs": [
    {
     "data": {
      "text/plain": [
       "array([-1.12416556e+00,  4.66794033e+02,  1.44959297e+02,  5.62449277e+02,\n",
       "       -1.30442485e+01,  6.08133906e+00, -7.98554726e+01, -7.87974473e+02,\n",
       "        3.13716323e+01,  1.17897853e+03,  2.55109264e+04,  2.58063358e+02,\n",
       "       -3.91951230e+03,  6.23198798e+02])"
      ]
     },
     "execution_count": 30,
     "metadata": {},
     "output_type": "execute_result"
    }
   ],
   "source": [
    "grad"
   ]
  },
  {
   "cell_type": "code",
   "execution_count": 44,
   "metadata": {},
   "outputs": [],
   "source": [
    "R = np.diag(p * (1 - p))"
   ]
  },
  {
   "cell_type": "code",
   "execution_count": 55,
   "metadata": {},
   "outputs": [],
   "source": [
    "z = np.dot(phi, w) - (np.dot((p-t), np.linalg.pinv(R)))"
   ]
  },
  {
   "cell_type": "code",
   "execution_count": 63,
   "metadata": {},
   "outputs": [
    {
     "data": {
      "text/plain": [
       "(14,)"
      ]
     },
     "execution_count": 63,
     "metadata": {},
     "output_type": "execute_result"
    }
   ],
   "source": [
    "np.linalg.inv(np.dot(np.dot(phi.T,R),phi)).dot(phi.T).dot(R).dot(z).shape"
   ]
  },
  {
   "cell_type": "code",
   "execution_count": 62,
   "metadata": {},
   "outputs": [
    {
     "data": {
      "text/plain": [
       "(506,)"
      ]
     },
     "execution_count": 62,
     "metadata": {},
     "output_type": "execute_result"
    }
   ],
   "source": [
    "z.shape"
   ]
  },
  {
   "cell_type": "code",
   "execution_count": 64,
   "metadata": {},
   "outputs": [
    {
     "data": {
      "text/plain": [
       "array([0., 0., 0., 0., 0., 0., 0., 0., 0., 0., 0., 0., 0., 0.])"
      ]
     },
     "execution_count": 64,
     "metadata": {},
     "output_type": "execute_result"
    }
   ],
   "source": [
    "np.zeros(D+1)"
   ]
  },
  {
   "cell_type": "code",
   "execution_count": 78,
   "metadata": {},
   "outputs": [
    {
     "data": {
      "text/plain": [
       "array([  -1246.72723329,  -24714.62879249,  191930.84941391,\n",
       "        -54761.6632841 ,    -576.49448914,   -1611.1190785 ,\n",
       "         -5129.52313752, -547368.96761597,   17073.89302026,\n",
       "         25372.26449013,  176888.73929845,  -21246.03431071,\n",
       "       -112504.30689689,  -86996.71524635])"
      ]
     },
     "execution_count": 78,
     "metadata": {},
     "output_type": "execute_result"
    }
   ],
   "source": [
    "np.dot(phi.T,phi).dot(w) - np.dot(phi.T,t)"
   ]
  },
  {
   "cell_type": "code",
   "execution_count": 79,
   "metadata": {},
   "outputs": [
    {
     "data": {
      "text/plain": [
       "array([-1.12416556e+00,  4.66794033e+02,  1.44959297e+02,  5.62449277e+02,\n",
       "       -1.30442485e+01,  6.08133906e+00, -7.98554726e+01, -7.87974473e+02,\n",
       "        3.13716323e+01,  1.17897853e+03,  2.55109264e+04,  2.58063358e+02,\n",
       "       -3.91951230e+03,  6.23198798e+02])"
      ]
     },
     "execution_count": 79,
     "metadata": {},
     "output_type": "execute_result"
    }
   ],
   "source": [
    "(p-t).dot(phi)"
   ]
  },
  {
   "cell_type": "code",
   "execution_count": 89,
   "metadata": {},
   "outputs": [
    {
     "name": "stderr",
     "output_type": "stream",
     "text": [
      "C:\\Users\\ptngu\\Anaconda3\\lib\\site-packages\\ipykernel_launcher.py:1: RuntimeWarning: invalid value encountered in log\n",
      "  \"\"\"Entry point for launching an IPython kernel.\n"
     ]
    },
    {
     "data": {
      "text/plain": [
       "array([-3.48285953e+00, -4.48306987e+01, -1.17667564e+01,             nan,\n",
       "       -1.20393016e+00, -7.27727123e+00, -1.30403814e+01, -6.62382131e+01,\n",
       "        0.00000000e+00,  0.00000000e+00,  0.00000000e+00,  0.00000000e+00,\n",
       "                   nan, -3.18025397e-02,  0.00000000e+00,             nan,\n",
       "                   nan,  0.00000000e+00,             nan, -1.15204990e-09,\n",
       "        0.00000000e+00,  0.00000000e+00,  0.00000000e+00,  0.00000000e+00,\n",
       "        0.00000000e+00,  0.00000000e+00,  0.00000000e+00,  0.00000000e+00,\n",
       "        0.00000000e+00,  0.00000000e+00,  0.00000000e+00,  0.00000000e+00,\n",
       "        0.00000000e+00,  0.00000000e+00,  0.00000000e+00, -1.11363047e-08,\n",
       "       -3.35900669e-06,             nan,             nan,             nan,\n",
       "                   nan,             nan,             nan,             nan,\n",
       "                   nan,             nan,             nan,  0.00000000e+00,\n",
       "        0.00000000e+00, -6.27276009e-14, -2.13910360e+00, -4.93312059e-09,\n",
       "                   nan,             nan,             nan,             nan,\n",
       "                   nan,             nan,             nan,             nan,\n",
       "       -1.15590790e-07,  0.00000000e+00, -8.88385132e+00,             nan,\n",
       "       -1.35176713e+01,             nan,             nan,             nan,\n",
       "                   nan,             nan,             nan,             nan,\n",
       "                   nan,             nan,             nan,             nan,\n",
       "       -7.19526981e-06,             nan,             nan,             nan,\n",
       "                   nan, -1.94699242e+01,             nan,             nan,\n",
       "                   nan, -3.64550426e+00,             nan, -7.58510453e+00,\n",
       "       -4.11441538e+01, -7.44187777e+00, -1.67640036e+01, -2.71824401e+01,\n",
       "       -1.14227829e+01,             nan,  0.00000000e+00, -2.44034239e+00,\n",
       "       -2.35127250e+01, -2.28518037e+01,             nan, -5.55052898e+00,\n",
       "       -1.46791588e+01,             nan,  0.00000000e+00, -1.97619698e-14,\n",
       "       -1.55431223e-15,  0.00000000e+00,  0.00000000e+00, -6.77236045e-14,\n",
       "        0.00000000e+00,  0.00000000e+00,             nan, -6.14476786e+00,\n",
       "       -1.62092562e-14, -1.11022302e-16, -1.44461866e-05, -3.82027743e-13,\n",
       "                   nan, -5.47860473e-04, -1.88325791e-03,             nan,\n",
       "       -7.53705034e+01,  0.00000000e+00,  0.00000000e+00,  0.00000000e+00,\n",
       "        0.00000000e+00, -1.04290793e+02,  0.00000000e+00,  0.00000000e+00,\n",
       "        0.00000000e+00,  0.00000000e+00,  0.00000000e+00,  0.00000000e+00,\n",
       "       -4.79440849e+01,  0.00000000e+00,  0.00000000e+00,  0.00000000e+00,\n",
       "        0.00000000e+00,  0.00000000e+00,  0.00000000e+00,  0.00000000e+00,\n",
       "        0.00000000e+00,  0.00000000e+00,  0.00000000e+00,  0.00000000e+00,\n",
       "        0.00000000e+00,  0.00000000e+00,  0.00000000e+00,  0.00000000e+00,\n",
       "        0.00000000e+00,  0.00000000e+00, -5.56890212e+01,  0.00000000e+00,\n",
       "        0.00000000e+00,  0.00000000e+00,  0.00000000e+00,  0.00000000e+00,\n",
       "        0.00000000e+00, -4.29281743e+01, -5.00804071e+01, -5.02027611e+01,\n",
       "       -3.78465375e+01, -2.83991575e+01, -3.73935922e+01, -3.32087967e+01,\n",
       "       -4.23454178e+01, -5.60917054e+01, -4.04709512e+01, -3.91065908e+01,\n",
       "       -5.72015638e+01, -5.33194839e+01,  0.00000000e+00,  0.00000000e+00,\n",
       "       -4.90758459e+01, -3.46288460e+01, -1.27084433e+01,             nan,\n",
       "                   nan, -1.40833317e+01, -1.75546600e+01, -1.62407837e+01,\n",
       "       -5.73094637e+01, -2.81881576e+01, -6.61121817e+01, -7.17017759e+01,\n",
       "       -7.54958163e+01, -4.37557637e+01, -8.85037045e+00,             nan,\n",
       "                   nan,             nan,             nan,             nan,\n",
       "                   nan,             nan,             nan,             nan,\n",
       "                   nan,             nan,             nan,             nan,\n",
       "                   nan,             nan,             nan,             nan,\n",
       "                   nan,             nan, -3.30197919e+00, -4.38533632e+01,\n",
       "       -1.83167605e+01,  0.00000000e+00, -6.99980526e+01,  0.00000000e+00,\n",
       "       -1.21491400e+01,             nan,             nan,             nan,\n",
       "       -1.36425069e+01, -5.21870429e+01, -7.57939573e+01, -6.26997353e+01,\n",
       "       -3.84940823e+01, -5.94085836e+01, -2.29196815e+01, -2.45265129e+01,\n",
       "       -1.76968766e+01, -2.60840754e+01, -2.76910019e+01, -2.37312400e+01,\n",
       "                   nan,             nan, -1.28248809e+01, -1.70923090e+01,\n",
       "       -7.23404409e+00, -5.69291279e+00, -5.73853112e+00, -2.04257340e+00,\n",
       "       -1.97593107e+01, -6.87572159e+00,             nan,             nan,\n",
       "                   nan, -7.45531368e-06,             nan,             nan,\n",
       "       -3.47578633e-10, -2.08583806e-09,             nan, -2.37453612e-10,\n",
       "                   nan,             nan,             nan,             nan,\n",
       "                   nan,             nan,             nan,             nan,\n",
       "                   nan, -4.44870383e+01, -6.75226051e+01, -6.50245731e+01,\n",
       "       -4.22372718e+01, -5.04592219e+01, -5.20190902e+01, -6.37280793e+01,\n",
       "       -5.50129909e+01, -1.49897216e+01, -5.50634647e+01, -1.85718616e+01,\n",
       "                   nan, -9.32587341e-15, -1.73568796e-02,             nan,\n",
       "       -2.06293182e+01, -8.21881565e+00,             nan,             nan,\n",
       "                   nan,             nan,             nan,             nan,\n",
       "       -1.82180172e+01,             nan,             nan,             nan,\n",
       "                   nan,             nan,             nan,             nan,\n",
       "                   nan,             nan,             nan,             nan,\n",
       "                   nan,             nan,             nan,             nan,\n",
       "                   nan, -7.21528503e-08,             nan,             nan,\n",
       "                   nan,             nan,             nan,             nan,\n",
       "                   nan, -1.47065148e+01, -3.16989187e+01, -3.05159404e+01,\n",
       "       -3.14256383e+01, -4.26325641e-14,             nan,             nan,\n",
       "        0.00000000e+00, -3.68567941e+01, -4.53269980e+01, -2.55351296e-15,\n",
       "        0.00000000e+00, -2.39808173e-14, -1.74148655e+01, -3.18586338e-04,\n",
       "                   nan,             nan,             nan, -1.34559031e-13,\n",
       "                   nan,             nan,             nan,             nan,\n",
       "                   nan,             nan,             nan,             nan,\n",
       "                   nan,             nan,             nan,             nan,\n",
       "                   nan, -1.79987908e-08,             nan,             nan,\n",
       "       -3.48746210e-07,             nan,             nan,             nan,\n",
       "                   nan,             nan,             nan,             nan,\n",
       "                   nan,             nan,             nan,             nan,\n",
       "                   nan,             nan,             nan,             nan,\n",
       "                   nan,             nan,             nan,             nan,\n",
       "                   nan,             nan,             nan,             nan,\n",
       "                   nan,             nan,             nan, -8.77434248e+00,\n",
       "                   nan,             nan,             nan,             nan,\n",
       "                   nan, -1.32590496e-07, -1.48847601e-12,             nan,\n",
       "                   nan,             nan, -2.22075281e-03, -2.88742403e-02,\n",
       "        0.00000000e+00,             nan,             nan,             nan,\n",
       "       -5.28662570e-07, -4.13154478e-06, -1.28978394e-08, -1.15809175e-03,\n",
       "       -5.96013960e-07,             nan,             nan,             nan,\n",
       "                   nan,             nan,             nan,             nan,\n",
       "                   nan,             nan, -4.44089210e-16,             nan,\n",
       "       -3.39631470e-08,             nan,             nan, -9.89189946e-01,\n",
       "       -1.54857135e-08,  0.00000000e+00, -6.16681610e-05,             nan,\n",
       "       -1.28340668e-02, -1.69202566e+01,  0.00000000e+00, -2.23154828e-14,\n",
       "        0.00000000e+00, -2.02926564e-12,  0.00000000e+00,  0.00000000e+00,\n",
       "       -1.62458713e-10, -8.69571082e-12,  0.00000000e+00,             nan,\n",
       "                   nan,             nan,             nan, -2.95277238e-04,\n",
       "                   nan, -6.88338275e-15,             nan, -2.13847858e-06,\n",
       "                   nan, -3.54363094e-10,             nan, -3.70488403e-06,\n",
       "                   nan,             nan, -3.95413176e-04, -8.70431444e-08,\n",
       "       -4.41858494e-08,  0.00000000e+00, -4.34208225e-13,             nan,\n",
       "                   nan,             nan,             nan,             nan,\n",
       "       -6.64390930e-05, -1.15593382e-06,             nan,             nan,\n",
       "                   nan,             nan, -4.15318080e-05,             nan,\n",
       "                   nan,             nan, -9.91709903e-08,             nan,\n",
       "       -1.31688261e-01,             nan,             nan,             nan,\n",
       "                   nan,             nan,             nan,             nan,\n",
       "                   nan,             nan,             nan,             nan,\n",
       "                   nan,             nan,             nan,             nan,\n",
       "                   nan,             nan,             nan, -1.12938149e+00,\n",
       "                   nan, -1.04549729e-02,             nan,             nan,\n",
       "                   nan,             nan,             nan,             nan,\n",
       "                   nan,             nan,             nan,             nan,\n",
       "                   nan, -8.15909189e-06, -2.98359781e-10, -1.84929562e+00,\n",
       "                   nan,             nan,             nan,             nan,\n",
       "       -6.08834507e-09, -6.24313931e-03,             nan, -1.43974148e-05,\n",
       "       -4.43718641e-09, -3.37353576e+01,  0.00000000e+00, -5.99274095e+01,\n",
       "       -5.87525218e+01,  0.00000000e+00])"
      ]
     },
     "execution_count": 89,
     "metadata": {},
     "output_type": "execute_result"
    }
   ],
   "source": [
    "t*np.log(2*p) + (1-t)*np.log(1-2*p)"
   ]
  },
  {
   "cell_type": "code",
   "execution_count": 98,
   "metadata": {},
   "outputs": [],
   "source": [
    "def safe_ln(p):\n",
    "    for x in p:\n",
    "        if x <= 0:\n",
    "            return 0\n",
    "        return np.log(x)"
   ]
  },
  {
   "cell_type": "code",
   "execution_count": 100,
   "metadata": {},
   "outputs": [
    {
     "data": {
      "text/plain": [
       "1047.964277237255"
      ]
     },
     "execution_count": 100,
     "metadata": {},
     "output_type": "execute_result"
    }
   ],
   "source": [
    "-np.sum(t*safe_ln(p) + (1-t)*safe_ln(1-p))"
   ]
  }
 ],
 "metadata": {
  "kernelspec": {
   "display_name": "Python 3",
   "language": "python",
   "name": "python3"
  },
  "language_info": {
   "codemirror_mode": {
    "name": "ipython",
    "version": 3
   },
   "file_extension": ".py",
   "mimetype": "text/x-python",
   "name": "python",
   "nbconvert_exporter": "python",
   "pygments_lexer": "ipython3",
   "version": "3.6.5"
  }
 },
 "nbformat": 4,
 "nbformat_minor": 2
}
