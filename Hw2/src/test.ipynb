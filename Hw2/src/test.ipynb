{
 "cells": [
  {
   "cell_type": "code",
   "execution_count": null,
   "metadata": {},
   "outputs": [],
   "source": [
    "import numpy as np \n",
    "import pandas as pd\n",
    "from cvxopt import matrix, solvers"
   ]
  },
  {
   "cell_type": "code",
   "execution_count": 133,
   "metadata": {},
   "outputs": [],
   "source": [
    "filename = 'MNIST-13.csv'\n",
    "data = pd.read_csv(filename, sep=\",\", header=None)"
   ]
  },
  {
   "cell_type": "code",
   "execution_count": 159,
   "metadata": {},
   "outputs": [],
   "source": [
    "X = np.array(data.head(100).iloc[:, 1:])\n",
    "y = [1.0 if num == 1 else -1.0 for num in data.head(100).iloc[:,0]]\n",
    "y = np.reshape(y, [X.shape[0],1])"
   ]
  },
  {
   "cell_type": "code",
   "execution_count": 160,
   "metadata": {},
   "outputs": [
    {
     "name": "stdout",
     "output_type": "stream",
     "text": [
      "100 784\n"
     ]
    }
   ],
   "source": [
    "N, D = X.shape\n",
    "print(N,D)"
   ]
  },
  {
   "cell_type": "code",
   "execution_count": 136,
   "metadata": {},
   "outputs": [],
   "source": [
    "C = 1\n",
    "P = matrix(np.outer(y,y) * np.dot(X, X.T))\n",
    "q = matrix(-np.ones(N))"
   ]
  },
  {
   "cell_type": "code",
   "execution_count": 137,
   "metadata": {},
   "outputs": [],
   "source": [
    "# inequality constraint a in [0,C]\n",
    "G1 = -np.eye(N)\n",
    "G2 = np.eye(N)\n",
    "G = matrix(np.vstack((G1,G2)))\n",
    "h1 = np.zeros(N)\n",
    "h2 = np.ones(N) * C \n",
    "h = matrix(np.hstack((h1,h2)))"
   ]
  },
  {
   "cell_type": "code",
   "execution_count": 138,
   "metadata": {},
   "outputs": [
    {
     "name": "stdout",
     "output_type": "stream",
     "text": [
      "     pcost       dcost       gap    pres   dres\n",
      " 0: -1.7577e-09 -1.0000e+02  4e+02  1e+00  2e-14\n",
      " 1:  4.1854e-05 -2.5946e+01  3e+01  1e-02  2e-14\n",
      " 2:  6.0507e-05 -3.1038e-01  3e-01  2e-04  3e-14\n",
      " 3:  3.1177e-05 -2.5891e-02  3e-02  1e-05  2e-14\n",
      " 4:  1.3554e-05 -4.9739e-03  5e-03  2e-06  2e-14\n",
      " 5:  8.7064e-06 -9.3298e-04  1e-03  4e-07  7e-15\n",
      " 6: -3.7933e-06 -2.9758e-05  3e-05  3e-09  4e-15\n",
      " 7: -7.9849e-06 -1.2305e-05  4e-06  4e-10  2e-15\n",
      " 8: -8.8476e-06 -1.0243e-05  1e-06  1e-10  2e-15\n",
      " 9: -9.2814e-06 -9.6606e-06  4e-07  2e-12  2e-15\n",
      "10: -9.3884e-06 -9.4200e-06  3e-08  2e-16  2e-15\n",
      "Optimal solution found.\n"
     ]
    }
   ],
   "source": [
    "# equality constraint\n",
    "A = matrix(y, (1,N))\n",
    "b = matrix(0.0)\n",
    "\n",
    "solution = solvers.qp(P, q, G, h, A, b)\n",
    "# Lagrange a\n",
    "a = np.array(solution['x'])"
   ]
  },
  {
   "cell_type": "code",
   "execution_count": 197,
   "metadata": {},
   "outputs": [],
   "source": [
    "sv = a > 1e-8\n",
    "idx = np.where(sv)[0]\n",
    "X_sv = X[:,idx]\n",
    "alphas = a[idx]\n",
    "y_sv = y[idx]"
   ]
  },
  {
   "cell_type": "code",
   "execution_count": 200,
   "metadata": {},
   "outputs": [],
   "source": [
    "b = np.mean(y_sv.T - np.dot(w.T, X_sv))"
   ]
  },
  {
   "cell_type": "code",
   "execution_count": 221,
   "metadata": {},
   "outputs": [
    {
     "data": {
      "text/plain": [
       "(784,)"
      ]
     },
     "execution_count": 221,
     "metadata": {},
     "output_type": "execute_result"
    }
   ],
   "source": [
    "w.shape"
   ]
  },
  {
   "cell_type": "code",
   "execution_count": 227,
   "metadata": {},
   "outputs": [
    {
     "data": {
      "text/plain": [
       "(784, 1)"
      ]
     },
     "execution_count": 227,
     "metadata": {},
     "output_type": "execute_result"
    }
   ],
   "source": [
    "x = X[0]\n",
    "x.reshape(-1,1).shape"
   ]
  },
  {
   "cell_type": "code",
   "execution_count": 226,
   "metadata": {},
   "outputs": [
    {
     "data": {
      "text/plain": [
       "0.11032789373975233"
      ]
     },
     "execution_count": 226,
     "metadata": {},
     "output_type": "execute_result"
    }
   ],
   "source": [
    "np.dot(w.T, x)"
   ]
  }
 ],
 "metadata": {
  "kernelspec": {
   "display_name": "Python 3",
   "language": "python",
   "name": "python3"
  },
  "language_info": {
   "codemirror_mode": {
    "name": "ipython",
    "version": 3
   },
   "file_extension": ".py",
   "mimetype": "text/x-python",
   "name": "python",
   "nbconvert_exporter": "python",
   "pygments_lexer": "ipython3",
   "version": "3.6.5"
  }
 },
 "nbformat": 4,
 "nbformat_minor": 2
}
